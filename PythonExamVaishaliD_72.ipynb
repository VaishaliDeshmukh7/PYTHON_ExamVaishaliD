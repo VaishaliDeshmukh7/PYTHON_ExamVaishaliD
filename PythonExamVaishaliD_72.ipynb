{
 "cells": [
  {
   "cell_type": "code",
   "execution_count": 45,
   "id": "dd4ade4b-1fc8-4473-8f7d-9b3c41a225cd",
   "metadata": {},
   "outputs": [
    {
     "name": "stdin",
     "output_type": "stream",
     "text": [
      "Enter a string:  \"The quick brown for jumps over the\"\n"
     ]
    }
   ],
   "source": [
    "alphabet = set(\"abcdefghijklmnopqrstuvwxyz\")\n",
    "s = input(\"Enter a string: \").lower()\n",
    "\n",
    "def pan(s):\n",
    "    if alphabet.issubset(s):\n",
    "        print(\"Pangram\")\n",
    "    else:\n",
    "        print(\"Not a Pangram\")   \n",
    "    "
   ]
  },
  {
   "cell_type": "code",
   "execution_count": 46,
   "id": "d98e7c9d-fb64-4d89-9072-9095c488ae30",
   "metadata": {},
   "outputs": [
    {
     "name": "stdout",
     "output_type": "stream",
     "text": [
      "Not a Pangram\n"
     ]
    }
   ],
   "source": [
    "pan(s)"
   ]
  },
  {
   "cell_type": "code",
   "execution_count": 55,
   "id": "52cd93c2-8f90-4a31-a329-ef6b472be20d",
   "metadata": {},
   "outputs": [
    {
     "name": "stdout",
     "output_type": "stream",
     "text": [
      "{'phone': ['Electronics', 250000, 10], 'watch': ['Electronics', 2000, 20], 'Ledies_top': ['clothing', 2500, 25], 'food': ['Groceries', 5000, 30]}\n"
     ]
    }
   ],
   "source": [
    "inventory={\"phone\":[\"Electronics\",250000,10],\"watch\":[\"Electronics\",2000,20],\"Ledies_top\":[\"clothing\",2500,25],\"food\":[\"Groceries\",5000,30]}\n",
    "print(inventory)\n",
    "\n",
    "def read_inventory_data(inventory):\n",
    "    key=input(\"Enter product name:\")\n",
    "    value=[]\n",
    "    append.value(input(\"Enter categories:\"))\n",
    "    append.value(input(\"Enter price:\"))\n",
    "    append.value(input(\"Enter quantity:\"))\n",
    "    inventory[key]=value\n",
    "    return inventory\n",
    "\n",
    "\n",
    "def validate_product(price,quantity):\n",
    "    if price & quantity in value>0:\n",
    "        print(\"data is correct\")\n",
    "    else:\n",
    "        print(\"data is not correct\")\n",
    "\n",
    "def Calculate_total_sales(products):\n",
    "    sum(inventory\n",
    "        "
   ]
  },
  {
   "cell_type": "code",
   "execution_count": 63,
   "id": "c3f8c13f-a644-4aa1-85bc-aac2750f2de2",
   "metadata": {},
   "outputs": [
    {
     "name": "stdout",
     "output_type": "stream",
     "text": [
      "{'phone': ['Electronics', 250000, 10], 'watch': ['Electronics', 2000, 20], 'Ledies_top': ['clothing', 2500, 25], 'food': ['Groceries', 5000, 30]}\n"
     ]
    },
    {
     "name": "stdin",
     "output_type": "stream",
     "text": [
      "Enter price 0\n",
      "enter Quantity 0\n"
     ]
    }
   ],
   "source": [
    "inventory={\"phone\":[\"Electronics\",250000,10],\"watch\":[\"Electronics\",2000,20],\"Ledies_top\":[\"clothing\",2500,25],\"food\":[\"Groceries\",5000,30]}\n",
    "print(inventory)\n",
    "\n",
    "def read_inventory_data(inventory):\n",
    "    key=input(\"Enter product name:\")\n",
    "    value=[]\n",
    "    value.append(input(\"Enter categories:\"))\n",
    "    value.append(input(\"Enter price:\"))\n",
    "    value.append(input(\"Enter quantity:\"))\n",
    "    inventory[key]=value\n",
    "    return inventory\n",
    "\n",
    "\n",
    "def validate_product(price,quantity):\n",
    "    if price & Quantity>0:\n",
    "        print(\"data is correct\")\n",
    "    else:\n",
    "        print(\"data is not correct\")\n",
    "\n",
    "price=int(input(\"Enter price\"))\n",
    "Quantity=int(input(\"enter Quantity\"))\n",
    "\n",
    "def Calculate_total_sales(products):\n",
    "    total_sales=sum(inventory[key][2])\n",
    "    print (total_sales)\n",
    "\n",
    "def Report(Products,total_sales):\n",
    "    prit(\n",
    "        \n",
    "\n",
    "\n",
    "while True:\n",
    "    print(\"------------------Inventory management system---------------------\")\n",
    "    print(\"1.data reading\")\n",
    "    print(\"2.Data Validation\")\n",
    "    print(\"3.sales reven calculation\")\n",
    "    print(\"4.report genration\")\n",
    "    print(\"5.exit\")\n",
    "    ch=int(input(\"enter value:\"))\n",
    "    if ch==1:\n",
    "        read_inventory_data(inventory)\n",
    "    elif ch==2:\n",
    "        validate_product(price,quantity)\n",
    "    elif ch==3:\n",
    "        Calculate_total_sales(products)\n",
    "    elif ch==4:\n",
    "        Report(Products,total_sales)\n",
    "    elif ch==5:\n",
    "        print(\"Exit\")\n",
    "    else:\n",
    "        print(\"Wrong Entry:\")\n",
    "        break\n",
    "           \n",
    "        \n",
    "\n",
    "\n",
    "\n",
    "        \n",
    "        \n",
    "    \n",
    "    \n",
    "\n",
    "\n",
    "\n",
    "        \n",
    "\n"
   ]
  }
 ],
 "metadata": {
  "kernelspec": {
   "display_name": "Python 3 (ipykernel)",
   "language": "python",
   "name": "python3"
  },
  "language_info": {
   "codemirror_mode": {
    "name": "ipython",
    "version": 3
   },
   "file_extension": ".py",
   "mimetype": "text/x-python",
   "name": "python",
   "nbconvert_exporter": "python",
   "pygments_lexer": "ipython3",
   "version": "3.13.1"
  }
 },
 "nbformat": 4,
 "nbformat_minor": 5
}
